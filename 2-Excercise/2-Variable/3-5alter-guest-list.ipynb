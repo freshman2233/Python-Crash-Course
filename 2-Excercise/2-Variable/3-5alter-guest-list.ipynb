{
 "cells": [
  {
   "cell_type": "code",
   "execution_count": 2,
   "metadata": {},
   "outputs": [
    {
     "name": "stdout",
     "output_type": "stream",
     "text": [
      "Sorry, Zhang Xiaomeng can not join our dinner.\n",
      "Honest guest Li Ming, you are invited to enjoy the dinner!\n",
      "Honest guest Wang Hua, you are invited to enjoy the dinner!\n",
      "Honest guest Yu Hua, you are invited to enjoy the dinner!\n"
     ]
    }
   ],
   "source": [
    "guest_list = ['Li Ming','Wang Hua','Zhang Xiaomeng']\n",
    "\n",
    "unavailable_for_appointment_guest_name = \"Zhang Xiaomeng\"\n",
    "\n",
    "print(f\"Sorry, {unavailable_for_appointment_guest_name} can not join our dinner.\")\n",
    "\n",
    "new_guest_name = \"Yu Hua\"\n",
    "\n",
    "guest_list[2] = new_guest_name\n",
    "\n",
    "for guest_name in guest_list:\n",
    "    message = f\"Honest guest {guest_name}, you are invited to enjoy the dinner!\"\n",
    "    print(message)"
   ]
  }
 ],
 "metadata": {
  "kernelspec": {
   "display_name": "Python 3",
   "language": "python",
   "name": "python3"
  },
  "language_info": {
   "codemirror_mode": {
    "name": "ipython",
    "version": 3
   },
   "file_extension": ".py",
   "mimetype": "text/x-python",
   "name": "python",
   "nbconvert_exporter": "python",
   "pygments_lexer": "ipython3",
   "version": "3.12.4"
  }
 },
 "nbformat": 4,
 "nbformat_minor": 2
}
