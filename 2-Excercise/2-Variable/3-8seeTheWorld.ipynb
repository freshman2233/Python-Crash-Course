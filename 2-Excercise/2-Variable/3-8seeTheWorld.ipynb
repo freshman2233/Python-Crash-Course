{
 "cells": [
  {
   "cell_type": "markdown",
   "metadata": {},
   "source": [
    "使用sorted()按与字母顺序相反的顺序打印这个列表，同时不要修改它。"
   ]
  },
  {
   "cell_type": "code",
   "execution_count": 6,
   "metadata": {},
   "outputs": [
    {
     "name": "stdout",
     "output_type": "stream",
     "text": [
      "['Singapore', 'Malaysia', 'Japan', 'America', 'England']\n",
      "['America', 'England', 'Japan', 'Malaysia', 'Singapore']\n",
      "['Singapore', 'Malaysia', 'Japan', 'America', 'England']\n",
      "['Singapore', 'Malaysia', 'Japan', 'England', 'America']\n",
      "['Singapore', 'Malaysia', 'Japan', 'America', 'England']\n",
      "['England', 'America', 'Japan', 'Malaysia', 'Singapore']\n",
      "['Singapore', 'Malaysia', 'Japan', 'America', 'England']\n",
      "['America', 'England', 'Japan', 'Malaysia', 'Singapore']\n",
      "['Singapore', 'Malaysia', 'Japan', 'England', 'America']\n"
     ]
    }
   ],
   "source": [
    "travelPlacesList = [\"Singapore\",\"Malaysia\",\"Japan\",\"America\",\"England\"]\n",
    "\n",
    "print(travelPlacesList)\n",
    "\n",
    "print(sorted(travelPlacesList))\n",
    "\n",
    "print(travelPlacesList)\n",
    "\n",
    "print(sorted(travelPlacesList, reverse=True))\n",
    "\n",
    "print(travelPlacesList)\n",
    "\n",
    "travelPlacesList.reverse()\n",
    "\n",
    "print(travelPlacesList)\n",
    "\n",
    "travelPlacesList.reverse()\n",
    "\n",
    "print(travelPlacesList)\n",
    "\n",
    "travelPlacesList.sort()\n",
    "\n",
    "print(travelPlacesList)\n",
    "\n",
    "travelPlacesList.sort(reverse=True)\n",
    "\n",
    "print(travelPlacesList)"
   ]
  }
 ],
 "metadata": {
  "kernelspec": {
   "display_name": "Python 3",
   "language": "python",
   "name": "python3"
  },
  "language_info": {
   "codemirror_mode": {
    "name": "ipython",
    "version": 3
   },
   "file_extension": ".py",
   "mimetype": "text/x-python",
   "name": "python",
   "nbconvert_exporter": "python",
   "pygments_lexer": "ipython3",
   "version": "3.12.4"
  }
 },
 "nbformat": 4,
 "nbformat_minor": 2
}
