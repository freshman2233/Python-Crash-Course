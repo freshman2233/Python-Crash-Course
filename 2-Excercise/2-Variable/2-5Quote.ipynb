{
 "cells": [
  {
   "cell_type": "markdown",
   "metadata": {},
   "source": [
    "Exercise 2-5: Quote Find a quote from a famous person you admire and print out the name and quote. The output should look like the following (including quotes)."
   ]
  },
  {
   "cell_type": "code",
   "execution_count": 1,
   "metadata": {},
   "outputs": [
    {
     "name": "stdout",
     "output_type": "stream",
     "text": [
      "Albert Einstein once said, \"A person who never made a mistake never tried anything new.\"\n"
     ]
    }
   ],
   "source": [
    "first_name = \"albert\"\n",
    "last_name = \"Einstein\"\n",
    "\n",
    "full_name = f\"{first_name} {last_name}\".title()\n",
    "\n",
    "quoto = f\"A person who never made a mistake never tried anything new.\"\n",
    "\n",
    "print(f'{full_name} once said, \"{quoto}\"')"
   ]
  }
 ],
 "metadata": {
  "kernelspec": {
   "display_name": "base",
   "language": "python",
   "name": "python3"
  },
  "language_info": {
   "codemirror_mode": {
    "name": "ipython",
    "version": 3
   },
   "file_extension": ".py",
   "mimetype": "text/x-python",
   "name": "python",
   "nbconvert_exporter": "python",
   "pygments_lexer": "ipython3",
   "version": "3.12.4"
  }
 },
 "nbformat": 4,
 "nbformat_minor": 2
}
