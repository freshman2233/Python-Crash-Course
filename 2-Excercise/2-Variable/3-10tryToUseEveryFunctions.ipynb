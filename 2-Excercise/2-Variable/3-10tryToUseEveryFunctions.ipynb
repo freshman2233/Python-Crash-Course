{
 "cells": [
  {
   "cell_type": "markdown",
   "metadata": {},
   "source": [
    "练习3-10：尝试使用各个函数　\n",
    "想想可存储到列表中的东西，\n",
    "如山川、河流、国家、城市、语言或你喜欢的任何东西。\n",
    "编写一个程序，在其中创建一个包含这些元素的列表，\n",
    "然后，对于本章介绍的每个函数，\n",
    "都至少使用一次来处理这个列表"
   ]
  },
  {
   "cell_type": "code",
   "execution_count": 9,
   "metadata": {},
   "outputs": [
    {
     "name": "stdout",
     "output_type": "stream",
     "text": [
      "['Tai mountain-East', 'Hua mountain-West', 'Song mountain-Middle', 'Heng mountain-North', 'Heng mountain-South']\n",
      "{'Tai mountain-East'}\n",
      "{'Hua mountain-West'}\n",
      "{'Song mountain-Middle'}\n",
      "{'Heng mountain-North'}\n",
      "{'Heng mountain-South'}\n",
      "Heng mountain-South\n",
      "['Hua mountain-West', 'Song mountain-Middle', 'Heng mountain-North']\n",
      "['Song mountain-Middle', 'Heng mountain-North']\n",
      "['Heng mountain-North', 'Song mountain-Middle']\n"
     ]
    }
   ],
   "source": [
    "# 五岳，是中国五大名山的总称，\n",
    "# 分别为\n",
    "# 东岳山东泰安的泰山、\n",
    "# 西岳陕西华阴的华山、\n",
    "# 中岳河南登封的嵩山、\n",
    "# 北岳山西浑源的恒山、\n",
    "# 南岳湖南衡阳的衡山\n",
    "\n",
    "mountainList = []\n",
    "\n",
    "mountainList.append(\"Tai mountain-East\")\n",
    "\n",
    "mountainList.insert(1,\"Hua mountain-West\")\n",
    "\n",
    "mountainList.append(\"Song mountain-Middle\")\n",
    "\n",
    "mountainList.append(\"Heng mountain-North\")\n",
    "\n",
    "mountainList.append(\"Heng mountain-South\")\n",
    "\n",
    "print(mountainList)\n",
    "\n",
    "for mountain in mountainList:\n",
    "    print({mountain})\n",
    "\n",
    "print(mountainList.pop())\n",
    "\n",
    "del mountainList[0]\n",
    "print(mountainList)\n",
    "\n",
    "mountainList.remove('Hua mountain-West')\n",
    "print(mountainList)\n",
    "\n",
    "mountainList.sort()\n",
    "print(mountainList)\n",
    "\n"
   ]
  }
 ],
 "metadata": {
  "kernelspec": {
   "display_name": "base",
   "language": "python",
   "name": "python3"
  },
  "language_info": {
   "codemirror_mode": {
    "name": "ipython",
    "version": 3
   },
   "file_extension": ".py",
   "mimetype": "text/x-python",
   "name": "python",
   "nbconvert_exporter": "python",
   "pygments_lexer": "ipython3",
   "version": "3.12.4"
  }
 },
 "nbformat": 4,
 "nbformat_minor": 2
}
