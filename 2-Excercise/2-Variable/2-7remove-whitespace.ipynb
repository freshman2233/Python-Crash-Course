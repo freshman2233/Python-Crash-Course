{
 "cells": [
  {
   "cell_type": "markdown",
   "metadata": {},
   "source": [
    "Exercise 2-7: Removing Whitespace from a person's name Represent a person's name with a variable and include whitespace characters at the beginning and end of it. Be sure to use the character combination \"\\t\" and \"\\n\" at least once each."
   ]
  },
  {
   "cell_type": "code",
   "execution_count": 4,
   "metadata": {},
   "outputs": [
    {
     "name": "stdout",
     "output_type": "stream",
     "text": [
      "\n",
      "\t  albert einstein  \n",
      "  albert einstein  \n",
      "albert einstein  \n",
      "  albert einstein\n",
      "albert einstein\n"
     ]
    }
   ],
   "source": [
    "famous_person = f\"  albert einstein  \"\n",
    "\n",
    "print(f\"\\n\\t{famous_person}\")\n",
    "\n",
    "print(famous_person)\n",
    "\n",
    "print(famous_person.lstrip())\n",
    "\n",
    "print(famous_person.rstrip())\n",
    "\n",
    "print(famous_person.strip())"
   ]
  }
 ],
 "metadata": {
  "kernelspec": {
   "display_name": "base",
   "language": "python",
   "name": "python3"
  },
  "language_info": {
   "codemirror_mode": {
    "name": "ipython",
    "version": 3
   },
   "file_extension": ".py",
   "mimetype": "text/x-python",
   "name": "python",
   "nbconvert_exporter": "python",
   "pygments_lexer": "ipython3",
   "version": "3.12.4"
  }
 },
 "nbformat": 4,
 "nbformat_minor": 2
}
