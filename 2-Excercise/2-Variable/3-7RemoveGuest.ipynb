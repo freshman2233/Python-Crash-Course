{
 "cells": [
  {
   "cell_type": "code",
   "execution_count": 9,
   "metadata": {},
   "outputs": [
    {
     "name": "stdout",
     "output_type": "stream",
     "text": [
      "['Zhang San', 'Li Ming', 'Li Si', 'Wang Hua', 'Zhang Xiaomeng', 'Wang Wu']\n",
      "Due to the newly purchased table won't arrive in time, so only two guests can be invited\n",
      "Sorry, Wang Wu, I cann't invite you to enjoy the dinner!\n",
      "Sorry, Zhang Xiaomeng, I cann't invite you to enjoy the dinner!\n",
      "Sorry, Wang Hua, I cann't invite you to enjoy the dinner!\n",
      "Sorry, Li Si, I cann't invite you to enjoy the dinner!\n",
      "Li Ming, I still invite you to enjoy the dinner!\n",
      "Zhang San, I still invite you to enjoy the dinner!\n",
      "[]\n"
     ]
    }
   ],
   "source": [
    "guest_list = ['Li Ming','Wang Hua','Zhang Xiaomeng']\n",
    "\n",
    "guest_list.insert(0,\"Zhang San\")\n",
    "\n",
    "guest_list.insert(2,\"Li Si\")\n",
    "\n",
    "guest_list.append(\"Wang Wu\")\n",
    "\n",
    "print(guest_list)\n",
    "\n",
    "print(f\"Due to the newly purchased table won't arrive in time, so only two guests can be invited\")\n",
    "\n",
    "guestName = guest_list.pop()\n",
    "sorryMessage = f\"Sorry, {guestName}, I cann't invite you to enjoy the dinner!\"\n",
    "print(sorryMessage)\n",
    "\n",
    "guestName = guest_list.pop()\n",
    "sorryMessage = f\"Sorry, {guestName}, I cann't invite you to enjoy the dinner!\"\n",
    "print(sorryMessage)\n",
    "\n",
    "guestName = guest_list.pop()\n",
    "sorryMessage = f\"Sorry, {guestName}, I cann't invite you to enjoy the dinner!\"\n",
    "print(sorryMessage)\n",
    "\n",
    "guestName = guest_list.pop()\n",
    "sorryMessage = f\"Sorry, {guestName}, I cann't invite you to enjoy the dinner!\"\n",
    "print(sorryMessage)\n",
    "\n",
    "guestName = guest_list[1]\n",
    "successMessage = f\"{guestName}, I still invite you to enjoy the dinner!\"\n",
    "print(successMessage)\n",
    "\n",
    "guestName = guest_list[0]\n",
    "successMessage = f\"{guestName}, I still invite you to enjoy the dinner!\"\n",
    "print(successMessage)\n",
    "\n",
    "del guest_list[1]\n",
    "\n",
    "del guest_list[0]\n",
    "\n",
    "print(guest_list)\n"
   ]
  }
 ],
 "metadata": {
  "kernelspec": {
   "display_name": "Python 3",
   "language": "python",
   "name": "python3"
  },
  "language_info": {
   "codemirror_mode": {
    "name": "ipython",
    "version": 3
   },
   "file_extension": ".py",
   "mimetype": "text/x-python",
   "name": "python",
   "nbconvert_exporter": "python",
   "pygments_lexer": "ipython3",
   "version": "3.12.4"
  }
 },
 "nbformat": 4,
 "nbformat_minor": 2
}
