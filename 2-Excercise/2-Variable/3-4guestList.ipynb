{
 "cells": [
  {
   "cell_type": "markdown",
   "metadata": {},
   "source": [
    "Exercise 3-4: Guest List \n",
    "\n",
    "If you could invite anyone (living or dead) to dinner, who would it be? \n",
    "\n",
    "Create a list of at least three people you wouldd like to invite,\n",
    "\n",
    "and the use that list to print a message inviting those people to come to dinner with you."
   ]
  },
  {
   "cell_type": "code",
   "execution_count": 3,
   "metadata": {},
   "outputs": [
    {
     "name": "stdout",
     "output_type": "stream",
     "text": [
      "Honest guest Li Ming, you are invited to enjoy the dinner!\n",
      "Honest guest Wang Hua, you are invited to enjoy the dinner!\n",
      "Honest guest Zhang Xiaomeng, you are invited to enjoy the dinner!\n"
     ]
    }
   ],
   "source": [
    "guest_list = ['Li Ming','Wang Hua','Zhang Xiaomeng']\n",
    "\n",
    "for guest_name in guest_list:\n",
    "    message = f\"Honest guest {guest_name}, you are invited to enjoy the dinner!\"\n",
    "    print(message)"
   ]
  }
 ],
 "metadata": {
  "kernelspec": {
   "display_name": "Python 3",
   "language": "python",
   "name": "python3"
  },
  "language_info": {
   "codemirror_mode": {
    "name": "ipython",
    "version": 3
   },
   "file_extension": ".py",
   "mimetype": "text/x-python",
   "name": "python",
   "nbconvert_exporter": "python",
   "pygments_lexer": "ipython3",
   "version": "3.12.4"
  }
 },
 "nbformat": 4,
 "nbformat_minor": 2
}
