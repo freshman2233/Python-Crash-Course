{
 "cells": [
  {
   "cell_type": "markdown",
   "metadata": {},
   "source": [
    "Exercise 2-6: Quotes 2 Repeat Exercise 2-5, but use the variable famous_person to represent the name of the celebrity, create the message to display, assign it to the variable message, and then print the message."
   ]
  },
  {
   "cell_type": "code",
   "execution_count": null,
   "metadata": {},
   "outputs": [
    {
     "name": "stdout",
     "output_type": "stream",
     "text": [
      "Albert Einstein once said, \"A person who never made a mistake never tried anything new.\"\n"
     ]
    }
   ],
   "source": [
    "first_name = \"albert\"\n",
    "last_name = \"Einstein\"\n",
    "\n",
    "famous_person = f\"{first_name} {last_name}\".title()\n",
    "\n",
    "quoto = f\"A person who never made a mistake never tried anything new.\"\n",
    "\n",
    "message = f'{famous_person} once said, \"{quoto}\"'\n",
    "\n",
    "print(message)"
   ]
  }
 ],
 "metadata": {
  "kernelspec": {
   "display_name": "base",
   "language": "python",
   "name": "python3"
  },
  "language_info": {
   "codemirror_mode": {
    "name": "ipython",
    "version": 3
   },
   "file_extension": ".py",
   "mimetype": "text/x-python",
   "name": "python",
   "nbconvert_exporter": "python",
   "pygments_lexer": "ipython3",
   "version": "3.12.4"
  }
 },
 "nbformat": 4,
 "nbformat_minor": 2
}
