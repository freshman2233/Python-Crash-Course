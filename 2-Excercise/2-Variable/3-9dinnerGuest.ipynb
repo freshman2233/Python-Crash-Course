{
 "cells": [
  {
   "cell_type": "markdown",
   "metadata": {},
   "source": [
    "练习3-9：晚餐嘉宾　在完成练习3-4~练习3-7时编写的程序之一中，使用len()打印一条消息，指出你邀请了多少位嘉宾来共进晚餐"
   ]
  },
  {
   "cell_type": "code",
   "execution_count": 2,
   "metadata": {},
   "outputs": [
    {
     "name": "stdout",
     "output_type": "stream",
     "text": [
      "Honest guest Zhang San, you are invited to enjoy the dinner!\n",
      "Honest guest Li Ming, you are invited to enjoy the dinner!\n",
      "Honest guest Li Si, you are invited to enjoy the dinner!\n",
      "Honest guest Wang Hua, you are invited to enjoy the dinner!\n",
      "Honest guest Zhang Xiaomeng, you are invited to enjoy the dinner!\n",
      "Honest guest Wang Wu, you are invited to enjoy the dinner!\n",
      "6\n"
     ]
    }
   ],
   "source": [
    "guest_list = ['Li Ming','Wang Hua','Zhang Xiaomeng']\n",
    "\n",
    "guest_list.insert(0,\"Zhang San\")\n",
    "\n",
    "guest_list.insert(2,\"Li Si\")\n",
    "\n",
    "guest_list.append(\"Wang Wu\")\n",
    "\n",
    "for guest_name in guest_list:\n",
    "    message = f\"Honest guest {guest_name}, you are invited to enjoy the dinner!\"\n",
    "    print(message)\n",
    "\n",
    "print(len(guest_list))"
   ]
  }
 ],
 "metadata": {
  "kernelspec": {
   "display_name": "Python 3",
   "language": "python",
   "name": "python3"
  },
  "language_info": {
   "codemirror_mode": {
    "name": "ipython",
    "version": 3
   },
   "file_extension": ".py",
   "mimetype": "text/x-python",
   "name": "python",
   "nbconvert_exporter": "python",
   "pygments_lexer": "ipython3",
   "version": "3.12.4"
  }
 },
 "nbformat": 4,
 "nbformat_minor": 2
}
