{
 "cells": [
  {
   "cell_type": "code",
   "execution_count": 1,
   "metadata": {},
   "outputs": [
    {
     "name": "stdout",
     "output_type": "stream",
     "text": [
      "Li Ming, have a nice day!\n",
      "Zhang Hua, have a nice day!\n",
      "Liu Hao, have a nice day!\n"
     ]
    }
   ],
   "source": [
    "names = ['LI MING','ZHANG HUA','LIU HAO']\n",
    "\n",
    "print(f\"{names[0].title()}, have a nice day!\")\n",
    "\n",
    "print(f\"{names[1].title()}, have a nice day!\")\n",
    "\n",
    "print(f\"{names[2].title()}, have a nice day!\")\n"
   ]
  }
 ],
 "metadata": {
  "kernelspec": {
   "display_name": "base",
   "language": "python",
   "name": "python3"
  },
  "language_info": {
   "codemirror_mode": {
    "name": "ipython",
    "version": 3
   },
   "file_extension": ".py",
   "mimetype": "text/x-python",
   "name": "python",
   "nbconvert_exporter": "python",
   "pygments_lexer": "ipython3",
   "version": "3.12.4"
  }
 },
 "nbformat": 4,
 "nbformat_minor": 2
}
